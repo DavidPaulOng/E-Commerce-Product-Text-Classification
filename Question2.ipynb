{
 "cells": [
  {
   "cell_type": "markdown",
   "metadata": {},
   "source": [
    "## Load Data"
   ]
  },
  {
   "cell_type": "code",
   "execution_count": 2,
   "metadata": {},
   "outputs": [
    {
     "data": {
      "text/html": [
       "<div>\n",
       "<style scoped>\n",
       "    .dataframe tbody tr th:only-of-type {\n",
       "        vertical-align: middle;\n",
       "    }\n",
       "\n",
       "    .dataframe tbody tr th {\n",
       "        vertical-align: top;\n",
       "    }\n",
       "\n",
       "    .dataframe thead th {\n",
       "        text-align: right;\n",
       "    }\n",
       "</style>\n",
       "<table border=\"1\" class=\"dataframe\">\n",
       "  <thead>\n",
       "    <tr style=\"text-align: right;\">\n",
       "      <th></th>\n",
       "      <th>Unnamed: 0</th>\n",
       "      <th>text</th>\n",
       "      <th>label</th>\n",
       "    </tr>\n",
       "  </thead>\n",
       "  <tbody>\n",
       "    <tr>\n",
       "      <th>0</th>\n",
       "      <td>0</td>\n",
       "      <td>The Theory of Everything Review Stephen Hawkin...</td>\n",
       "      <td>Books</td>\n",
       "    </tr>\n",
       "    <tr>\n",
       "      <th>1</th>\n",
       "      <td>1</td>\n",
       "      <td>Computer Networks: A Top - Down Approach About...</td>\n",
       "      <td>Books</td>\n",
       "    </tr>\n",
       "    <tr>\n",
       "      <th>2</th>\n",
       "      <td>2</td>\n",
       "      <td>Sajani Premium Quality Brown Wooden Coat Hange...</td>\n",
       "      <td>Household</td>\n",
       "    </tr>\n",
       "    <tr>\n",
       "      <th>3</th>\n",
       "      <td>3</td>\n",
       "      <td>Bosch Lifestyle MCM3501M 800-Watt Food Process...</td>\n",
       "      <td>Household</td>\n",
       "    </tr>\n",
       "    <tr>\n",
       "      <th>4</th>\n",
       "      <td>4</td>\n",
       "      <td>Secret Wish Women's Navy-Blue Towel Bathrobe (...</td>\n",
       "      <td>Household</td>\n",
       "    </tr>\n",
       "  </tbody>\n",
       "</table>\n",
       "</div>"
      ],
      "text/plain": [
       "   Unnamed: 0                                               text      label\n",
       "0           0  The Theory of Everything Review Stephen Hawkin...      Books\n",
       "1           1  Computer Networks: A Top - Down Approach About...      Books\n",
       "2           2  Sajani Premium Quality Brown Wooden Coat Hange...  Household\n",
       "3           3  Bosch Lifestyle MCM3501M 800-Watt Food Process...  Household\n",
       "4           4  Secret Wish Women's Navy-Blue Towel Bathrobe (...  Household"
      ]
     },
     "execution_count": 2,
     "metadata": {},
     "output_type": "execute_result"
    }
   ],
   "source": [
    "import pandas as pd\n",
    "import numpy as np\n",
    "import matplotlib.pyplot as plt\n",
    "import seaborn as sns\n",
    "\n",
    "df = pd.read_csv(\"data_1A.csv\")\n",
    "df.head()"
   ]
  },
  {
   "cell_type": "markdown",
   "metadata": {},
   "source": [
    "## EDA"
   ]
  },
  {
   "cell_type": "code",
   "execution_count": 3,
   "metadata": {},
   "outputs": [
    {
     "data": {
      "text/plain": [
       "37818"
      ]
     },
     "execution_count": 3,
     "metadata": {},
     "output_type": "execute_result"
    }
   ],
   "source": [
    "df.size"
   ]
  },
  {
   "cell_type": "code",
   "execution_count": 4,
   "metadata": {},
   "outputs": [
    {
     "data": {
      "text/plain": [
       "Unnamed: 0    0\n",
       "text          1\n",
       "label         0\n",
       "dtype: int64"
      ]
     },
     "execution_count": 4,
     "metadata": {},
     "output_type": "execute_result"
    }
   ],
   "source": [
    "df.isna().sum()"
   ]
  },
  {
   "cell_type": "code",
   "execution_count": 5,
   "metadata": {},
   "outputs": [],
   "source": [
    "df.dropna(inplace=True)"
   ]
  },
  {
   "cell_type": "code",
   "execution_count": 6,
   "metadata": {},
   "outputs": [
    {
     "data": {
      "text/html": [
       "<div>\n",
       "<style scoped>\n",
       "    .dataframe tbody tr th:only-of-type {\n",
       "        vertical-align: middle;\n",
       "    }\n",
       "\n",
       "    .dataframe tbody tr th {\n",
       "        vertical-align: top;\n",
       "    }\n",
       "\n",
       "    .dataframe thead th {\n",
       "        text-align: right;\n",
       "    }\n",
       "</style>\n",
       "<table border=\"1\" class=\"dataframe\">\n",
       "  <thead>\n",
       "    <tr style=\"text-align: right;\">\n",
       "      <th></th>\n",
       "      <th>Unnamed: 0</th>\n",
       "      <th>text</th>\n",
       "      <th>label</th>\n",
       "      <th>Text Length</th>\n",
       "    </tr>\n",
       "  </thead>\n",
       "  <tbody>\n",
       "    <tr>\n",
       "      <th>0</th>\n",
       "      <td>0</td>\n",
       "      <td>The Theory of Everything Review Stephen Hawkin...</td>\n",
       "      <td>Books</td>\n",
       "      <td>4009</td>\n",
       "    </tr>\n",
       "    <tr>\n",
       "      <th>1</th>\n",
       "      <td>1</td>\n",
       "      <td>Computer Networks: A Top - Down Approach About...</td>\n",
       "      <td>Books</td>\n",
       "      <td>129</td>\n",
       "    </tr>\n",
       "    <tr>\n",
       "      <th>2</th>\n",
       "      <td>2</td>\n",
       "      <td>Sajani Premium Quality Brown Wooden Coat Hange...</td>\n",
       "      <td>Household</td>\n",
       "      <td>1916</td>\n",
       "    </tr>\n",
       "    <tr>\n",
       "      <th>3</th>\n",
       "      <td>3</td>\n",
       "      <td>Bosch Lifestyle MCM3501M 800-Watt Food Process...</td>\n",
       "      <td>Household</td>\n",
       "      <td>440</td>\n",
       "    </tr>\n",
       "    <tr>\n",
       "      <th>4</th>\n",
       "      <td>4</td>\n",
       "      <td>Secret Wish Women's Navy-Blue Towel Bathrobe (...</td>\n",
       "      <td>Household</td>\n",
       "      <td>182</td>\n",
       "    </tr>\n",
       "    <tr>\n",
       "      <th>...</th>\n",
       "      <td>...</td>\n",
       "      <td>...</td>\n",
       "      <td>...</td>\n",
       "      <td>...</td>\n",
       "    </tr>\n",
       "    <tr>\n",
       "      <th>12601</th>\n",
       "      <td>12601</td>\n",
       "      <td>Lotus Makeup Ecostay Insta Smooth Perfecting P...</td>\n",
       "      <td>Household</td>\n",
       "      <td>289</td>\n",
       "    </tr>\n",
       "    <tr>\n",
       "      <th>12602</th>\n",
       "      <td>12602</td>\n",
       "      <td>The Subtle Art of Not Giving a F*ck Review “Re...</td>\n",
       "      <td>Books</td>\n",
       "      <td>3078</td>\n",
       "    </tr>\n",
       "    <tr>\n",
       "      <th>12603</th>\n",
       "      <td>12603</td>\n",
       "      <td>Elevanto Premium Collection 3/4Th Sleeve Terry...</td>\n",
       "      <td>Household</td>\n",
       "      <td>333</td>\n",
       "    </tr>\n",
       "    <tr>\n",
       "      <th>12604</th>\n",
       "      <td>12604</td>\n",
       "      <td>WD My Passport 4TB Portable External Hard Driv...</td>\n",
       "      <td>Electronics</td>\n",
       "      <td>335</td>\n",
       "    </tr>\n",
       "    <tr>\n",
       "      <th>12605</th>\n",
       "      <td>12605</td>\n",
       "      <td>Storite 16 Foot 3.5 mm Male To 3.5 mm Female J...</td>\n",
       "      <td>Electronics</td>\n",
       "      <td>103</td>\n",
       "    </tr>\n",
       "  </tbody>\n",
       "</table>\n",
       "<p>12605 rows × 4 columns</p>\n",
       "</div>"
      ],
      "text/plain": [
       "       Unnamed: 0                                               text  \\\n",
       "0               0  The Theory of Everything Review Stephen Hawkin...   \n",
       "1               1  Computer Networks: A Top - Down Approach About...   \n",
       "2               2  Sajani Premium Quality Brown Wooden Coat Hange...   \n",
       "3               3  Bosch Lifestyle MCM3501M 800-Watt Food Process...   \n",
       "4               4  Secret Wish Women's Navy-Blue Towel Bathrobe (...   \n",
       "...           ...                                                ...   \n",
       "12601       12601  Lotus Makeup Ecostay Insta Smooth Perfecting P...   \n",
       "12602       12602  The Subtle Art of Not Giving a F*ck Review “Re...   \n",
       "12603       12603  Elevanto Premium Collection 3/4Th Sleeve Terry...   \n",
       "12604       12604  WD My Passport 4TB Portable External Hard Driv...   \n",
       "12605       12605  Storite 16 Foot 3.5 mm Male To 3.5 mm Female J...   \n",
       "\n",
       "             label  Text Length  \n",
       "0            Books         4009  \n",
       "1            Books          129  \n",
       "2        Household         1916  \n",
       "3        Household          440  \n",
       "4        Household          182  \n",
       "...            ...          ...  \n",
       "12601    Household          289  \n",
       "12602        Books         3078  \n",
       "12603    Household          333  \n",
       "12604  Electronics          335  \n",
       "12605  Electronics          103  \n",
       "\n",
       "[12605 rows x 4 columns]"
      ]
     },
     "execution_count": 6,
     "metadata": {},
     "output_type": "execute_result"
    }
   ],
   "source": [
    "df['text'] = df['text'].astype(str)\n",
    "df['Text Length'] = df['text'].apply(len)\n",
    "df"
   ]
  },
  {
   "cell_type": "code",
   "execution_count": 7,
   "metadata": {},
   "outputs": [
    {
     "data": {
      "image/png": "[encoded data removed]",
      "text/plain": [
       "<Figure size 648x432 with 1 Axes>"
      ]
     },
     "metadata": {
      "needs_background": "light"
     },
     "output_type": "display_data"
    }
   ],
   "source": [
    "plt.figure(figsize=(9,6))\n",
    "df.groupby(\"label\").agg({\"Text Length\":\"mean\"}).plot(kind = 'bar', ax = plt.gca())\n",
    "plt.title(\"Average Text Length by Label\", fontsize = 16)\n",
    "plt.xticks(fontsize = 14)\n",
    "plt.show()"
   ]
  },
  {
   "cell_type": "code",
   "execution_count": 8,
   "metadata": {},
   "outputs": [
    {
     "data": {
      "image/png": "[encoded data removed]",
      "text/plain": [
       "<Figure size 648x432 with 1 Axes>"
      ]
     },
     "metadata": {
      "needs_background": "light"
     },
     "output_type": "display_data"
    }
   ],
   "source": [
    "plt.figure(figsize=(9,6))\n",
    "df.groupby(\"label\").agg({\"label\":\"count\"}).plot(kind = 'bar', ax = plt.gca())\n",
    "plt.title(\"Label Count Distribution\", fontsize = 16)\n",
    "plt.xticks(fontsize = 14)\n",
    "plt.show()\n"
   ]
  },
  {
   "cell_type": "code",
   "execution_count": 9,
   "metadata": {},
   "outputs": [
    {
     "data": {
      "text/html": [
       "<div>\n",
       "<style scoped>\n",
       "    .dataframe tbody tr th:only-of-type {\n",
       "        vertical-align: middle;\n",
       "    }\n",
       "\n",
       "    .dataframe tbody tr th {\n",
       "        vertical-align: top;\n",
       "    }\n",
       "\n",
       "    .dataframe thead th {\n",
       "        text-align: right;\n",
       "    }\n",
       "</style>\n",
       "<table border=\"1\" class=\"dataframe\">\n",
       "  <thead>\n",
       "    <tr style=\"text-align: right;\">\n",
       "      <th></th>\n",
       "      <th>count</th>\n",
       "      <th>mean</th>\n",
       "      <th>std</th>\n",
       "      <th>min</th>\n",
       "      <th>25%</th>\n",
       "      <th>50%</th>\n",
       "      <th>75%</th>\n",
       "      <th>max</th>\n",
       "    </tr>\n",
       "  </thead>\n",
       "  <tbody>\n",
       "    <tr>\n",
       "      <th>Unnamed: 0</th>\n",
       "      <td>12605.0</td>\n",
       "      <td>6302.584371</td>\n",
       "      <td>3639.315115</td>\n",
       "      <td>0.0</td>\n",
       "      <td>3151.0</td>\n",
       "      <td>6303.0</td>\n",
       "      <td>9454.0</td>\n",
       "      <td>12605.0</td>\n",
       "    </tr>\n",
       "    <tr>\n",
       "      <th>Text Length</th>\n",
       "      <td>12605.0</td>\n",
       "      <td>712.994367</td>\n",
       "      <td>1140.659810</td>\n",
       "      <td>4.0</td>\n",
       "      <td>217.0</td>\n",
       "      <td>483.0</td>\n",
       "      <td>945.0</td>\n",
       "      <td>50403.0</td>\n",
       "    </tr>\n",
       "  </tbody>\n",
       "</table>\n",
       "</div>"
      ],
      "text/plain": [
       "               count         mean          std  min     25%     50%     75%  \\\n",
       "Unnamed: 0   12605.0  6302.584371  3639.315115  0.0  3151.0  6303.0  9454.0   \n",
       "Text Length  12605.0   712.994367  1140.659810  4.0   217.0   483.0   945.0   \n",
       "\n",
       "                 max  \n",
       "Unnamed: 0   12605.0  \n",
       "Text Length  50403.0  "
      ]
     },
     "execution_count": 9,
     "metadata": {},
     "output_type": "execute_result"
    }
   ],
   "source": [
    "df.describe().T"
   ]
  },
  {
   "cell_type": "markdown",
   "metadata": {},
   "source": [
    "## Preprocessing"
   ]
  },
  {
   "cell_type": "markdown",
   "metadata": {},
   "source": [
    "### Cleaning"
   ]
  },
  {
   "cell_type": "markdown",
   "metadata": {},
   "source": [
    "Proses text cleaning melibatkan pembersihan teks dari elemen-elemen yang tidak relevan, seperti tanda baca, angka, atau karakter khusus, untuk membuat teks lebih konsisten dan siap diproses."
   ]
  },
  {
   "cell_type": "code",
   "execution_count": 18,
   "metadata": {},
   "outputs": [],
   "source": [
    "import regex as re\n",
    "def clean(text):\n",
    " return re.sub(r'[^A-Za-z0-9\\s]', '', text)"
   ]
  },
  {
   "cell_type": "markdown",
   "metadata": {},
   "source": [
    "### Tokenization"
   ]
  },
  {
   "cell_type": "markdown",
   "metadata": {},
   "source": [
    "Tokenization adalah proses memecah teks menjadi bagian-bagian yang lebih kecil, yang disebut token. Ini dilakukan untuk memudahkan analisa data.\n"
   ]
  },
  {
   "cell_type": "code",
   "execution_count": 10,
   "metadata": {},
   "outputs": [],
   "source": [
    "from nltk.tokenize import word_tokenize\n",
    "def tokenize(text):\n",
    " return word_tokenize(text)"
   ]
  },
  {
   "cell_type": "markdown",
   "metadata": {},
   "source": [
    "### Stopword Removal"
   ]
  },
  {
   "cell_type": "markdown",
   "metadata": {},
   "source": [
    " Stopword removal menghilangkan kata-kata umum yang tidak memiliki makna penting dalam analisis, seperti \"dan\", \"yang\", atau \"di\". Hal ini membantu mengurangi noise dan meningkatkan fokus pada kata-kata yang lebih bermakna."
   ]
  },
  {
   "cell_type": "code",
   "execution_count": 11,
   "metadata": {},
   "outputs": [
    {
     "name": "stderr",
     "output_type": "stream",
     "text": [
      "[nltk_data] Downloading package stopwords to\n",
      "[nltk_data]     C:\\Users\\Andy\\AppData\\Roaming\\nltk_data...\n",
      "[nltk_data]   Package stopwords is already up-to-date!\n"
     ]
    }
   ],
   "source": [
    "import nltk\n",
    "nltk.download('stopwords')\n",
    "stopwords = set(nltk.corpus.stopwords.words('english'))\n",
    "def remove_stop(tokens):\n",
    " return [t for t in tokens if t.lower() not in stopwords]"
   ]
  },
  {
   "cell_type": "markdown",
   "metadata": {},
   "source": [
    "### Lemmatization"
   ]
  },
  {
   "cell_type": "markdown",
   "metadata": {},
   "source": [
    "Lemmatization mengonversi kata-kata menjadi bentuk dasar atau lemma-nya, seperti mengubah \"berlari\" menjadi \"lari\". Ini dilakukan untuk menyatukan berbagai bentuk kata dan memudahkan analisis."
   ]
  },
  {
   "cell_type": "code",
   "execution_count": 48,
   "metadata": {},
   "outputs": [],
   "source": [
    "from nltk.stem import WordNetLemmatizer\n",
    "\n",
    "def lemmatize(tokens):\n",
    "    lemmatizer = WordNetLemmatizer()\n",
    "    tokens_lemmatized = [lemmatizer.lemmatize(word) for word in tokens]\n",
    "    return tokens_lemmatized"
   ]
  },
  {
   "cell_type": "code",
   "execution_count": 49,
   "metadata": {},
   "outputs": [],
   "source": [
    "pipeline = [clean, str.lower, tokenize, remove_stop]\n",
    "def prepare(text, pipeline):\n",
    "  tokens = text\n",
    "  for transform in pipeline:\n",
    "    tokens = transform(tokens)\n",
    "\n",
    "  return tokens"
   ]
  },
  {
   "cell_type": "code",
   "execution_count": 50,
   "metadata": {},
   "outputs": [],
   "source": [
    "df['tokens'] = df['text'].apply(prepare, pipeline = pipeline)"
   ]
  },
  {
   "cell_type": "code",
   "execution_count": 51,
   "metadata": {},
   "outputs": [
    {
     "data": {
      "image/png": "[encoded data removed]",
      "text/plain": [
       "<Figure size 648x432 with 1 Axes>"
      ]
     },
     "metadata": {
      "needs_background": "light"
     },
     "output_type": "display_data"
    }
   ],
   "source": [
    "from collections import Counter\n",
    "counter = Counter()\n",
    "df[\"tokens\"].map(counter.update)\n",
    "plt.figure(figsize=(9,6))\n",
    "pd.DataFrame(counter.most_common(10), columns = ['word', 'count']).sort_values(\"count\").plot(kind = 'barh', x = 'word', ax = plt.gca())\n",
    "plt.title(\"Most Common Words\", fontsize = 16)\n",
    "plt.xticks(fontsize = 14)\n",
    "plt.yticks(fontsize = 14)\n",
    "plt.show()\n"
   ]
  },
  {
   "cell_type": "code",
   "execution_count": 52,
   "metadata": {},
   "outputs": [],
   "source": [
    "from sklearn.model_selection import train_test_split\n",
    "xtrain, xtest, ytrain, ytest  = train_test_split(df['text'], df['label'], test_size=0.15)"
   ]
  },
  {
   "cell_type": "code",
   "execution_count": 53,
   "metadata": {},
   "outputs": [],
   "source": [
    "xtrain_tokens = xtrain.apply(prepare, pipeline = pipeline)\n",
    "xtest_tokens = xtest.apply(prepare, pipeline = pipeline)"
   ]
  },
  {
   "cell_type": "markdown",
   "metadata": {},
   "source": [
    "### Bag of Words"
   ]
  },
  {
   "cell_type": "markdown",
   "metadata": {},
   "source": [
    "Bag of Words (BoW) adalah model representasi teks yang mengabaikan urutan kata dan hanya mempertimbangkan frekuensi kemunculan kata-kata dalam dokumen. Dalam model ini, setiap dokumen diwakili sebagai vektor dari jumlah kemunculan kata-kata unik yang terdapat dalam korpus."
   ]
  },
  {
   "cell_type": "code",
   "execution_count": 112,
   "metadata": {},
   "outputs": [],
   "source": [
    "from sklearn.feature_extraction.text import CountVectorizer\n",
    "\n",
    "xtrain_sentences = [\" \".join(tokens) for tokens in xtrain_tokens]\n",
    "xtest_sentences = [\" \".join(tokens) for tokens in xtest_tokens]\n",
    "vectorizer = CountVectorizer(max_features=1500)\n",
    "one_hot_train = vectorizer.fit_transform(xtrain_sentences).toarray()\n",
    "one_hot_test = vectorizer.transform(xtest_sentences).toarray()\n"
   ]
  },
  {
   "cell_type": "markdown",
   "metadata": {},
   "source": [
    "### TF-IDF"
   ]
  },
  {
   "cell_type": "markdown",
   "metadata": {},
   "source": [
    "TF-IDF (Term Frequency-Inverse Document Frequency) adalah metode yang digunakan untuk menilai seberapa penting suatu kata dalam dokumen relatif terhadap kumpulan dokumen lainnya. TF mengukur frekuensi kata dalam dokumen, sedangkan IDF mengukur seberapa umum atau jarangnya kata tersebut di seluruh korpus; kombinasi keduanya memberikan bobot yang lebih tinggi pada kata-kata yang lebih informatif."
   ]
  },
  {
   "cell_type": "code",
   "execution_count": null,
   "metadata": {},
   "outputs": [],
   "source": [
    "from sklearn.feature_extraction.text import TfidfVectorizer\n",
    "\n",
    "tfidf = TfidfVectorizer(max_features=1500)\n",
    "tfidf_train = tfidf.fit_transform(xtrain_sentences)\n",
    "tfidf_test = tfidf.transform(xtest_sentences)\n",
    "tfidf_train = pd.DataFrame(tfidf_train.toarray(), columns=tfidf.get_feature_names_out())\n",
    "tfidf_test = pd.DataFrame(tfidf_test.toarray(), columns=tfidf.get_feature_names_out())\n"
   ]
  },
  {
   "cell_type": "code",
   "execution_count": 110,
   "metadata": {},
   "outputs": [
    {
     "data": {
      "text/html": [
       "<div>\n",
       "<style scoped>\n",
       "    .dataframe tbody tr th:only-of-type {\n",
       "        vertical-align: middle;\n",
       "    }\n",
       "\n",
       "    .dataframe tbody tr th {\n",
       "        vertical-align: top;\n",
       "    }\n",
       "\n",
       "    .dataframe thead th {\n",
       "        text-align: right;\n",
       "    }\n",
       "</style>\n",
       "<table border=\"1\" class=\"dataframe\">\n",
       "  <thead>\n",
       "    <tr style=\"text-align: right;\">\n",
       "      <th></th>\n",
       "      <th>10</th>\n",
       "      <th>100</th>\n",
       "      <th>1000</th>\n",
       "      <th>1080p</th>\n",
       "      <th>11</th>\n",
       "      <th>12</th>\n",
       "      <th>13</th>\n",
       "      <th>14</th>\n",
       "      <th>15</th>\n",
       "      <th>150</th>\n",
       "      <th>...</th>\n",
       "      <th>yellow</th>\n",
       "      <th>yes</th>\n",
       "      <th>yet</th>\n",
       "      <th>yoga</th>\n",
       "      <th>york</th>\n",
       "      <th>youll</th>\n",
       "      <th>young</th>\n",
       "      <th>youre</th>\n",
       "      <th>zipper</th>\n",
       "      <th>zoom</th>\n",
       "    </tr>\n",
       "  </thead>\n",
       "  <tbody>\n",
       "    <tr>\n",
       "      <th>0</th>\n",
       "      <td>0.0</td>\n",
       "      <td>0.000000</td>\n",
       "      <td>0.0</td>\n",
       "      <td>0.0</td>\n",
       "      <td>0.0</td>\n",
       "      <td>0.0</td>\n",
       "      <td>0.0</td>\n",
       "      <td>0.0</td>\n",
       "      <td>0.0</td>\n",
       "      <td>0.0</td>\n",
       "      <td>...</td>\n",
       "      <td>0.124248</td>\n",
       "      <td>0.0</td>\n",
       "      <td>0.0</td>\n",
       "      <td>0.0</td>\n",
       "      <td>0.0</td>\n",
       "      <td>0.0</td>\n",
       "      <td>0.0</td>\n",
       "      <td>0.0</td>\n",
       "      <td>0.0</td>\n",
       "      <td>0.0</td>\n",
       "    </tr>\n",
       "    <tr>\n",
       "      <th>1</th>\n",
       "      <td>0.0</td>\n",
       "      <td>0.000000</td>\n",
       "      <td>0.0</td>\n",
       "      <td>0.0</td>\n",
       "      <td>0.0</td>\n",
       "      <td>0.0</td>\n",
       "      <td>0.0</td>\n",
       "      <td>0.0</td>\n",
       "      <td>0.0</td>\n",
       "      <td>0.0</td>\n",
       "      <td>...</td>\n",
       "      <td>0.000000</td>\n",
       "      <td>0.0</td>\n",
       "      <td>0.0</td>\n",
       "      <td>0.0</td>\n",
       "      <td>0.0</td>\n",
       "      <td>0.0</td>\n",
       "      <td>0.0</td>\n",
       "      <td>0.0</td>\n",
       "      <td>0.0</td>\n",
       "      <td>0.0</td>\n",
       "    </tr>\n",
       "    <tr>\n",
       "      <th>2</th>\n",
       "      <td>0.0</td>\n",
       "      <td>0.000000</td>\n",
       "      <td>0.0</td>\n",
       "      <td>0.0</td>\n",
       "      <td>0.0</td>\n",
       "      <td>0.0</td>\n",
       "      <td>0.0</td>\n",
       "      <td>0.0</td>\n",
       "      <td>0.0</td>\n",
       "      <td>0.0</td>\n",
       "      <td>...</td>\n",
       "      <td>0.000000</td>\n",
       "      <td>0.0</td>\n",
       "      <td>0.0</td>\n",
       "      <td>0.0</td>\n",
       "      <td>0.0</td>\n",
       "      <td>0.0</td>\n",
       "      <td>0.0</td>\n",
       "      <td>0.0</td>\n",
       "      <td>0.0</td>\n",
       "      <td>0.0</td>\n",
       "    </tr>\n",
       "    <tr>\n",
       "      <th>3</th>\n",
       "      <td>0.0</td>\n",
       "      <td>0.113376</td>\n",
       "      <td>0.0</td>\n",
       "      <td>0.0</td>\n",
       "      <td>0.0</td>\n",
       "      <td>0.0</td>\n",
       "      <td>0.0</td>\n",
       "      <td>0.0</td>\n",
       "      <td>0.0</td>\n",
       "      <td>0.0</td>\n",
       "      <td>...</td>\n",
       "      <td>0.000000</td>\n",
       "      <td>0.0</td>\n",
       "      <td>0.0</td>\n",
       "      <td>0.0</td>\n",
       "      <td>0.0</td>\n",
       "      <td>0.0</td>\n",
       "      <td>0.0</td>\n",
       "      <td>0.0</td>\n",
       "      <td>0.0</td>\n",
       "      <td>0.0</td>\n",
       "    </tr>\n",
       "    <tr>\n",
       "      <th>4</th>\n",
       "      <td>0.0</td>\n",
       "      <td>0.000000</td>\n",
       "      <td>0.0</td>\n",
       "      <td>0.0</td>\n",
       "      <td>0.0</td>\n",
       "      <td>0.0</td>\n",
       "      <td>0.0</td>\n",
       "      <td>0.0</td>\n",
       "      <td>0.0</td>\n",
       "      <td>0.0</td>\n",
       "      <td>...</td>\n",
       "      <td>0.000000</td>\n",
       "      <td>0.0</td>\n",
       "      <td>0.0</td>\n",
       "      <td>0.0</td>\n",
       "      <td>0.0</td>\n",
       "      <td>0.0</td>\n",
       "      <td>0.0</td>\n",
       "      <td>0.0</td>\n",
       "      <td>0.0</td>\n",
       "      <td>0.0</td>\n",
       "    </tr>\n",
       "  </tbody>\n",
       "</table>\n",
       "<p>5 rows × 1500 columns</p>\n",
       "</div>"
      ],
      "text/plain": [
       "    10       100  1000  1080p   11   12   13   14   15  150  ...    yellow  \\\n",
       "0  0.0  0.000000   0.0    0.0  0.0  0.0  0.0  0.0  0.0  0.0  ...  0.124248   \n",
       "1  0.0  0.000000   0.0    0.0  0.0  0.0  0.0  0.0  0.0  0.0  ...  0.000000   \n",
       "2  0.0  0.000000   0.0    0.0  0.0  0.0  0.0  0.0  0.0  0.0  ...  0.000000   \n",
       "3  0.0  0.113376   0.0    0.0  0.0  0.0  0.0  0.0  0.0  0.0  ...  0.000000   \n",
       "4  0.0  0.000000   0.0    0.0  0.0  0.0  0.0  0.0  0.0  0.0  ...  0.000000   \n",
       "\n",
       "   yes  yet  yoga  york  youll  young  youre  zipper  zoom  \n",
       "0  0.0  0.0   0.0   0.0    0.0    0.0    0.0     0.0   0.0  \n",
       "1  0.0  0.0   0.0   0.0    0.0    0.0    0.0     0.0   0.0  \n",
       "2  0.0  0.0   0.0   0.0    0.0    0.0    0.0     0.0   0.0  \n",
       "3  0.0  0.0   0.0   0.0    0.0    0.0    0.0     0.0   0.0  \n",
       "4  0.0  0.0   0.0   0.0    0.0    0.0    0.0     0.0   0.0  \n",
       "\n",
       "[5 rows x 1500 columns]"
      ]
     },
     "execution_count": 110,
     "metadata": {},
     "output_type": "execute_result"
    }
   ],
   "source": [
    "tfidf_train.head()"
   ]
  },
  {
   "cell_type": "markdown",
   "metadata": {},
   "source": [
    "## Model training"
   ]
  },
  {
   "cell_type": "markdown",
   "metadata": {},
   "source": [
    "### Random Forest"
   ]
  },
  {
   "cell_type": "markdown",
   "metadata": {},
   "source": [
    "Random Forest adalah algoritma pembelajaran mesin berbasis ensemble yang menggunakan sejumlah pohon keputusan untuk meningkatkan akurasi dan mengurangi overfitting. "
   ]
  },
  {
   "cell_type": "markdown",
   "metadata": {},
   "source": [
    "#### Bag of Words Encoding Tuning"
   ]
  },
  {
   "cell_type": "markdown",
   "metadata": {},
   "source": [
    "Hyperparameter Random Search adalah teknik untuk mencari kombinasi optimal dari hyperparameter model dengan cara acak."
   ]
  },
  {
   "cell_type": "code",
   "execution_count": 59,
   "metadata": {},
   "outputs": [
    {
     "name": "stdout",
     "output_type": "stream",
     "text": [
      "Fitting 5 folds for each of 10 candidates, totalling 50 fits\n",
      "Random Forest One Hot Encoding:  {'n_estimators': 150, 'max_features': 'log2', 'criterion': 'gini'}\n"
     ]
    }
   ],
   "source": [
    "from sklearn.ensemble import RandomForestClassifier\n",
    "from sklearn.model_selection import GridSearchCV, RandomizedSearchCV\n",
    "\n",
    "param_grid = { \n",
    "    'n_estimators': [50, 100, 150], \n",
    "    'max_features': ['sqrt', 'log2'], \n",
    "    'criterion':['gini', 'entropy']\n",
    "} \n",
    "grid_search = RandomizedSearchCV(RandomForestClassifier(), \n",
    "                           param_distributions=param_grid, n_iter=10, verbose=True) \n",
    "grid_search.fit(one_hot_train, ytrain) \n",
    "print(\"Random Forest One Hot Encoding: \",grid_search.best_params_) "
   ]
  },
  {
   "cell_type": "markdown",
   "metadata": {},
   "source": [
    "#### Tf_IDF Encoding Tuning"
   ]
  },
  {
   "cell_type": "code",
   "execution_count": 61,
   "metadata": {},
   "outputs": [
    {
     "name": "stdout",
     "output_type": "stream",
     "text": [
      "Fitting 5 folds for each of 10 candidates, totalling 50 fits\n",
      "{'n_estimators': 100, 'max_features': 'log2', 'criterion': 'gini'}\n"
     ]
    }
   ],
   "source": [
    "param_grid = { \n",
    "    'n_estimators': [50, 100, 150], \n",
    "    'max_features': ['sqrt', 'log2'], \n",
    "    'criterion':['gini', 'entropy']\n",
    "} \n",
    "grid_search = RandomizedSearchCV(RandomForestClassifier(), \n",
    "                           param_distributions=param_grid, n_iter=10, verbose=True) \n",
    "grid_search.fit(tfidf_train, ytrain) \n",
    "print(grid_search.best_params_) "
   ]
  },
  {
   "cell_type": "markdown",
   "metadata": {},
   "source": [
    "#### Random Forest Bag of Words"
   ]
  },
  {
   "cell_type": "code",
   "execution_count": 79,
   "metadata": {},
   "outputs": [
    {
     "name": "stdout",
     "output_type": "stream",
     "text": [
      "                        precision    recall  f1-score   support\n",
      "\n",
      "                 Books       0.97      0.95      0.96       433\n",
      "Clothing & Accessories       0.96      0.96      0.96       317\n",
      "           Electronics       0.95      0.90      0.92       400\n",
      "             Household       0.92      0.96      0.94       741\n",
      "\n",
      "              accuracy                           0.94      1891\n",
      "             macro avg       0.95      0.94      0.95      1891\n",
      "          weighted avg       0.94      0.94      0.94      1891\n",
      "\n"
     ]
    }
   ],
   "source": [
    "from sklearn.ensemble import RandomForestClassifier\n",
    "rfc = RandomForestClassifier(n_estimators=150,max_features='log2', criterion='gini')\n",
    "rfc.fit(one_hot_train, ytrain)\n",
    "from sklearn.metrics import classification_report\n",
    "prediction_forest = rfc.predict(one_hot_test)\n",
    "print(classification_report(ytest, prediction_forest))"
   ]
  },
  {
   "cell_type": "markdown",
   "metadata": {},
   "source": [
    "#### Random Forest TF-IDF"
   ]
  },
  {
   "cell_type": "code",
   "execution_count": 90,
   "metadata": {},
   "outputs": [
    {
     "name": "stdout",
     "output_type": "stream",
     "text": [
      "                        precision    recall  f1-score   support\n",
      "\n",
      "                 Books       0.97      0.95      0.96       433\n",
      "Clothing & Accessories       0.97      0.94      0.96       317\n",
      "           Electronics       0.95      0.90      0.92       400\n",
      "             Household       0.92      0.97      0.95       741\n",
      "\n",
      "              accuracy                           0.95      1891\n",
      "             macro avg       0.95      0.94      0.95      1891\n",
      "          weighted avg       0.95      0.95      0.95      1891\n",
      "\n"
     ]
    }
   ],
   "source": [
    "rfc = RandomForestClassifier(n_estimators=100, max_features='log2', criterion='gini')\n",
    "rfc.fit(tfidf_train, ytrain)\n",
    "from sklearn.metrics import classification_report\n",
    "prediction_forest = rfc.predict(tfidf_test)\n",
    "print(classification_report(ytest, prediction_forest))"
   ]
  },
  {
   "cell_type": "markdown",
   "metadata": {},
   "source": [
    "### SVM"
   ]
  },
  {
   "cell_type": "markdown",
   "metadata": {},
   "source": [
    "Support Vector Machine (SVM) adalah algoritma pembelajaran mesin yang digunakan untuk klasifikasi dan regresi dengan mencari hyperplane optimal yang memisahkan data ke dalam kelas-kelas yang berbeda."
   ]
  },
  {
   "cell_type": "markdown",
   "metadata": {},
   "source": [
    "#### One Hot Encoding Tuning"
   ]
  },
  {
   "cell_type": "code",
   "execution_count": 47,
   "metadata": {},
   "outputs": [
    {
     "name": "stdout",
     "output_type": "stream",
     "text": [
      "Fitting 5 folds for each of 10 candidates, totalling 50 fits\n",
      "SVC One Hot Encoding:  {'kernel': 'sigmoid', 'gamma': 0.01, 'C': 10}\n"
     ]
    }
   ],
   "source": [
    "from sklearn.svm import SVC\n",
    "from sklearn.model_selection import GridSearchCV, RandomizedSearchCV\n",
    "\n",
    "param_grid = {'C': [0.1, 1, 10],  \n",
    "              'gamma': [1, 0.1, 0.01, 'scale'], \n",
    "              'kernel': ['rbf', 'linear', 'sigmoid']}  \n",
    "\n",
    "grid_search = RandomizedSearchCV(SVC(), \n",
    "                           param_distributions=param_grid, n_iter=10, verbose=True) \n",
    "grid_search.fit(one_hot_train, ytrain) \n",
    "print(\"SVC One Hot Encoding: \",grid_search.best_params_) "
   ]
  },
  {
   "cell_type": "markdown",
   "metadata": {},
   "source": [
    "#### TF-IDF Tuning"
   ]
  },
  {
   "cell_type": "code",
   "execution_count": 58,
   "metadata": {},
   "outputs": [
    {
     "name": "stdout",
     "output_type": "stream",
     "text": [
      "Fitting 5 folds for each of 10 candidates, totalling 50 fits\n",
      "SVC TF-IDF:  {'kernel': 'linear', 'gamma': 0.01, 'C': 1}\n"
     ]
    }
   ],
   "source": [
    "\n",
    "param_grid = {'C': [0.1, 1, 10],  \n",
    "              'gamma': [1, 0.1, 0.01, 'scale'], \n",
    "              'kernel': ['rbf', 'linear', 'sigmoid']}  \n",
    "\n",
    "grid_search = RandomizedSearchCV(SVC(), \n",
    "                           param_distributions=param_grid, n_iter=10, verbose=True) \n",
    "grid_search.fit(tfidf_train, ytrain) \n",
    "print(\"SVC TF-IDF: \",grid_search.best_params_) "
   ]
  },
  {
   "cell_type": "markdown",
   "metadata": {},
   "source": [
    "#### SVM One Hot Encoding"
   ]
  },
  {
   "cell_type": "code",
   "execution_count": 80,
   "metadata": {},
   "outputs": [
    {
     "name": "stdout",
     "output_type": "stream",
     "text": [
      "                        precision    recall  f1-score   support\n",
      "\n",
      "                 Books       0.88      0.94      0.91       433\n",
      "Clothing & Accessories       0.94      0.91      0.93       317\n",
      "           Electronics       0.92      0.88      0.90       400\n",
      "             Household       0.93      0.92      0.92       741\n",
      "\n",
      "              accuracy                           0.92      1891\n",
      "             macro avg       0.92      0.91      0.92      1891\n",
      "          weighted avg       0.92      0.92      0.92      1891\n",
      "\n"
     ]
    }
   ],
   "source": [
    "from sklearn.svm import SVC\n",
    "svm = SVC(kernel='sigmoid', gamma=0.01, C=10)\n",
    "svm.fit(one_hot_train, ytrain)\n",
    "prediction_svc = svm.predict(one_hot_test)\n",
    "from sklearn.metrics import classification_report\n",
    "print(classification_report(ytest, prediction_svc))\n"
   ]
  },
  {
   "cell_type": "markdown",
   "metadata": {},
   "source": [
    "#### SVM TF-IDF"
   ]
  },
  {
   "cell_type": "code",
   "execution_count": 91,
   "metadata": {},
   "outputs": [
    {
     "name": "stdout",
     "output_type": "stream",
     "text": [
      "                        precision    recall  f1-score   support\n",
      "\n",
      "                 Books       0.96      0.95      0.96       433\n",
      "Clothing & Accessories       0.96      0.97      0.97       317\n",
      "           Electronics       0.94      0.90      0.92       400\n",
      "             Household       0.94      0.96      0.95       741\n",
      "\n",
      "              accuracy                           0.95      1891\n",
      "             macro avg       0.95      0.95      0.95      1891\n",
      "          weighted avg       0.95      0.95      0.95      1891\n",
      "\n"
     ]
    }
   ],
   "source": [
    "svm = SVC(kernel='linear', gamma=0.01, C=1)\n",
    "svm.fit(tfidf_train, ytrain)\n",
    "prediction_svc = svm.predict(tfidf_test)\n",
    "from sklearn.metrics import classification_report\n",
    "print(classification_report(ytest, prediction_svc))\n"
   ]
  },
  {
   "cell_type": "markdown",
   "metadata": {},
   "source": [
    "## Results"
   ]
  },
  {
   "cell_type": "code",
   "execution_count": 2,
   "metadata": {},
   "outputs": [
    {
     "data": {
      "image/png": "[encoded data removed]",
      "text/plain": [
       "<IPython.core.display.Image object>"
      ]
     },
     "execution_count": 2,
     "metadata": {},
     "output_type": "execute_result"
    }
   ],
   "source": [
    "from IPython.display import Image\n",
    "\n",
    "# Display the image\n",
    "Image(filename='Table.png')"
   ]
  },
  {
   "cell_type": "markdown",
   "metadata": {},
   "source": [
    "Dapat dilihat bahwa kedua algoritma jika TF-IDF menghasilkan performance yang lebih baik dibandingkan bag of words. Ini dikarenakan TF-IDF lebih holistik saat mempertimbangkan value dari sebuah kata, mempertimbangkan keseluruhan korpus dibandingkan dengan bag of words yang hanya menggunakan frekuensi kata tanpa konteks tambahan apa pun. Perbandingan random forest dan SVM tidak terlalu jauh jika mengambil yang terbaik untuk keduanya yaitu 95%, dimana perbedaan dalam beberapa metrik sangat kecil sehingga dapat dibilang negligible. "
   ]
  }
 ],
 "metadata": {
  "kernelspec": {
   "display_name": "Python 3",
   "language": "python",
   "name": "python3"
  },
  "language_info": {
   "codemirror_mode": {
    "name": "ipython",
    "version": 3
   },
   "file_extension": ".py",
   "mimetype": "text/x-python",
   "name": "python",
   "nbconvert_exporter": "python",
   "pygments_lexer": "ipython3",
   "version": "3.9.5"
  }
 },
 "nbformat": 4,
 "nbformat_minor": 2
}
